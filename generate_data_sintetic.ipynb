{
 "cells": [
  {
   "cell_type": "code",
   "execution_count": 118,
   "metadata": {},
   "outputs": [],
   "source": [
    "from faker import Faker\n",
    "# Conexion\n",
    "import psycopg2\n",
    "import uuid\n",
    "\n",
    "# Configuración de la conexion\n",
    "conexion = psycopg2.connect(\n",
    "    host=\"localhost\",\n",
    "    database=\"postgres\",\n",
    "    user=\"postgres\",\n",
    "    password=\"contraseña\"\n",
    ")\n",
    "\n",
    "# Consulta para obtener las tablas de un esquema\n",
    "esquema = 'recruitment'\n",
    "tablas_db = []\n",
    "consulta = f\"\"\"\n",
    "SELECT table_name \n",
    "FROM information_schema.tables \n",
    "WHERE table_schema = '{esquema}' AND table_type = 'BASE TABLE';\n",
    "\"\"\"\n",
    "\n",
    "# Ejecutar la consulta\n",
    "with conexion.cursor() as cursor:\n",
    "    cursor.execute(consulta)\n",
    "    tablas = cursor.fetchall()\n",
    "    tablas_db = tablas"
   ]
  },
  {
   "cell_type": "code",
   "execution_count": 119,
   "metadata": {},
   "outputs": [],
   "source": [
    "\n",
    "# def recorrer_tabla(tabla):\n",
    "#     # Consulta para obtener las columnas de una tabla\n",
    "#     consulta = f\"\"\"\n",
    "#     SELECT column_name, data_type\n",
    "#     FROM information_schema.columns\n",
    "#     WHERE table_schema = %s AND table_name = %s;\n",
    "#     \"\"\"\n",
    "\n",
    "#     # Ejecutar la consulta\n",
    "#     with conexion.cursor() as cursor:\n",
    "#         cursor.execute(consulta, (esquema, tabla))\n",
    "#         columnas = cursor.fetchall()\n",
    "\n",
    "#     # Cerrar la conexión\n",
    "\n",
    "#     print(tabla)\n",
    "#     # Mostrar las columnas\n",
    "#     for columna in columnas:\n",
    "#         print(f\"Columna: {columna[0]}, Tipo de dato: {columna[1]}\")"
   ]
  },
  {
   "cell_type": "code",
   "execution_count": 120,
   "metadata": {},
   "outputs": [],
   "source": [
    "# for tabla in tablas_db:\n",
    "#     recorrer_tabla(tabla)"
   ]
  },
  {
   "cell_type": "code",
   "execution_count": 121,
   "metadata": {},
   "outputs": [],
   "source": [
    "# conexion.close()"
   ]
  },
  {
   "cell_type": "code",
   "execution_count": 122,
   "metadata": {},
   "outputs": [],
   "source": [
    "# for tabla in tablas_db:\n",
    "#     print(tabla[0])"
   ]
  },
  {
   "cell_type": "code",
   "execution_count": 123,
   "metadata": {},
   "outputs": [],
   "source": [
    "# Instancia Faker\n",
    "fake = Faker()\n",
    "import random"
   ]
  },
  {
   "cell_type": "code",
   "execution_count": 124,
   "metadata": {},
   "outputs": [],
   "source": [
    "def generar_datos_applicant_profile(num_registros):\n",
    "    datos = []\n",
    "    for _ in range(num_registros):\n",
    "        nombre = fake.name()\n",
    "        email = fake.email()\n",
    "        id_usuario = str(uuid.uuid4())\n",
    "        \n",
    "        # Aquí puedes añadir otras columnas según el diseño de tu tabla\n",
    "        datos.append((nombre, email, id_usuario))\n",
    "    return datos"
   ]
  },
  {
   "cell_type": "code",
   "execution_count": 125,
   "metadata": {},
   "outputs": [],
   "source": [
    "registros = generar_datos_applicant_profile(20)"
   ]
  },
  {
   "cell_type": "code",
   "execution_count": 126,
   "metadata": {},
   "outputs": [
    {
     "data": {
      "text/plain": [
       "[('Laura Anderson',\n",
       "  'jmcknight@example.org',\n",
       "  '2b373a44-2c12-4369-ba47-9b4d04d139aa'),\n",
       " ('Luis Banks',\n",
       "  'youngbrandon@example.org',\n",
       "  'e024f310-a38e-47a3-905c-8fae90fd36f2'),\n",
       " ('Anna Richards',\n",
       "  'dsanchez@example.com',\n",
       "  'aa95ae5d-107d-406a-89cd-08d61564b8ac'),\n",
       " ('Steven Frank',\n",
       "  'fwillis@example.net',\n",
       "  'ea40ad88-f970-4aab-be4e-cd6f72ecca90'),\n",
       " ('Linda Day',\n",
       "  'frederickjames@example.org',\n",
       "  '29b66547-c346-42f1-807a-8cf09b82b050'),\n",
       " ('Kristopher Robinson',\n",
       "  'edward83@example.net',\n",
       "  '8ade34e2-c40f-4dbf-82b7-4a987a740f73'),\n",
       " ('George Morgan',\n",
       "  'doughertymaurice@example.org',\n",
       "  '2dda637e-2dbf-46a7-b68d-50f4566622f9'),\n",
       " ('Vicki Irwin',\n",
       "  'gabrielapatterson@example.com',\n",
       "  '859f7351-7742-4ba8-b369-89ee4ed0e00f'),\n",
       " ('Virginia Baker',\n",
       "  'pennyanderson@example.com',\n",
       "  'c6c2f504-de8c-46ae-8db2-c1b20c042216'),\n",
       " ('Edward Serrano',\n",
       "  'scottdaniel@example.net',\n",
       "  '9c1a5ba8-5439-4f17-a0c5-3186334f1651'),\n",
       " ('Philip Smith',\n",
       "  'samantha31@example.org',\n",
       "  '9ccd4be1-527a-492c-9288-1ab2ac40c61a'),\n",
       " ('Christopher Guzman',\n",
       "  'ccurtis@example.net',\n",
       "  'ee224bc0-1706-4cce-8f1c-a8b835d6a7bb'),\n",
       " ('Wendy Snow', 'slarson@example.net', '3d75e387-270d-4a5a-804b-548d3dc911f7'),\n",
       " ('Jordan Brown',\n",
       "  'brianbaker@example.org',\n",
       "  '55831a96-d903-422f-a177-af8e944c3fcb'),\n",
       " ('Steven Clark',\n",
       "  'grahamjennifer@example.org',\n",
       "  '05dcbd54-fc6d-45b8-aaad-1edbc3967ef5'),\n",
       " ('Jerry Aguirre',\n",
       "  'cookelizabeth@example.net',\n",
       "  'ca3e03e0-0671-4a03-9041-a5fda3864f81'),\n",
       " ('Ryan Myers',\n",
       "  'okennedy@example.net',\n",
       "  '4c498051-9659-46f9-a580-12d0e47bd766'),\n",
       " ('Janet Lopez',\n",
       "  'kelleramber@example.com',\n",
       "  'a9b83490-b0d6-40a0-980c-f2cb66ccf40d'),\n",
       " ('John Johnston',\n",
       "  'durhammichael@example.com',\n",
       "  'f24fc04c-0ab7-44eb-838d-c1f9131a10a0'),\n",
       " ('Lauren Fuentes',\n",
       "  'trowland@example.com',\n",
       "  '98e4ffec-9dd8-4dd3-956e-bd105e6c86dc')]"
      ]
     },
     "execution_count": 126,
     "metadata": {},
     "output_type": "execute_result"
    }
   ],
   "source": [
    "registros"
   ]
  },
  {
   "cell_type": "code",
   "execution_count": 127,
   "metadata": {},
   "outputs": [],
   "source": [
    "# Insertar los datos generados en la base de datos\n",
    "def insertar_datos_applicant_profile(datos):\n",
    "    with conexion.cursor() as cursor:\n",
    "        # Consulta SQL para insertar registros\n",
    "        \n",
    "        consulta = \"\"\"\n",
    "        INSERT INTO recruitment.user (name, email, user_id)\n",
    "        VALUES (%s, %s, %s)\n",
    "        \"\"\"\n",
    "        # Insertar múltiples registros\n",
    "        cursor.executemany(consulta, datos)\n",
    "        conexion.commit()  # Confirmar la transacción"
   ]
  },
  {
   "cell_type": "code",
   "execution_count": 128,
   "metadata": {},
   "outputs": [],
   "source": [
    "insertar_datos_applicant_profile(registros)"
   ]
  },
  {
   "cell_type": "code",
   "execution_count": 151,
   "metadata": {},
   "outputs": [],
   "source": [
    "import psycopg2\n",
    "\n",
    "def insertar_user_ids_no_existentes():\n",
    "    try:\n",
    "        # Conectar a la base de datos\n",
    "        with psycopg2.connect(\n",
    "            host=\"localhost\",\n",
    "            database=\"postgres\",\n",
    "            user=\"postgres\",\n",
    "            password=\"contraseña\"\n",
    "        ) as conexion:\n",
    "            with conexion.cursor() as cursor:\n",
    "                # Leer los 'user_id' existentes en la tabla 'user'\n",
    "                consulta_user_ids = \"\"\"\n",
    "                SELECT user_id FROM recruitment.user\n",
    "                \"\"\"\n",
    "                cursor.execute(consulta_user_ids)\n",
    "                user_ids_existentes = set(row[0] for row in cursor.fetchall())  # Almacenar los user_id en un set\n",
    "\n",
    "                # Leer los 'user_id' que ya existen en la tabla 'applicant_profile'\n",
    "                consulta_applicant_profile = \"\"\"\n",
    "                SELECT user_id FROM recruitment.applicant_profile\n",
    "                \"\"\"\n",
    "                cursor.execute(consulta_applicant_profile)\n",
    "                user_ids_en_profile = set(row[0] for row in cursor.fetchall())  # Almacenar los user_id en applicant_profile\n",
    "\n",
    "                # Identificar los 'user_id' que están en 'user' pero no en 'applicant_profile'\n",
    "                user_ids_a_insertar = user_ids_existentes - user_ids_en_profile\n",
    "\n",
    "                if user_ids_a_insertar:\n",
    "                    # Insertar los 'user_id' que faltan en la tabla 'applicant_profile'\n",
    "                    consulta_insertar = \"\"\"\n",
    "                    INSERT INTO recruitment.applicant_profile (user_id)\n",
    "                    VALUES (%s)\n",
    "                    \"\"\"\n",
    "                    cursor.executemany(consulta_insertar, [(user_id,) for user_id in user_ids_a_insertar])\n",
    "                    conexion.commit()  # Confirmar la transacción\n",
    "\n",
    "                    print(f\"{len(user_ids_a_insertar)} user_ids insertados correctamente en 'applicant_profile'.\")\n",
    "                else:\n",
    "                    print(\"No hay nuevos user_ids para insertar en 'applicant_profile'.\")\n",
    "                    return True\n",
    "\n",
    "    except Exception as e:\n",
    "        # Imprimir el error en caso de que ocurra una excepción\n",
    "        print(f\"Ocurrió un error: {e}\")\n",
    "        # Si ocurre un error, hacer rollback de cualquier cambio no confirmado\n",
    "        if 'conexion' in locals():\n",
    "            conexion.rollback()\n"
   ]
  },
  {
   "cell_type": "code",
   "execution_count": null,
   "metadata": {},
   "outputs": [
    {
     "name": "stdout",
     "output_type": "stream",
     "text": [
      "No hay nuevos user_ids para insertar en 'applicant_profile'.\n"
     ]
    }
   ],
   "source": [
    "while (True):\n",
    "    if(insertar_user_ids_no_existentes()):\n",
    "        break"
   ]
  }
 ],
 "metadata": {
  "kernelspec": {
   "display_name": "venv",
   "language": "python",
   "name": "python3"
  },
  "language_info": {
   "codemirror_mode": {
    "name": "ipython",
    "version": 3
   },
   "file_extension": ".py",
   "mimetype": "text/x-python",
   "name": "python",
   "nbconvert_exporter": "python",
   "pygments_lexer": "ipython3",
   "version": "3.12.3"
  }
 },
 "nbformat": 4,
 "nbformat_minor": 2
}
